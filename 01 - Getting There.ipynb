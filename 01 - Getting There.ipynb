{
 "cells": [
  {
   "cell_type": "markdown",
   "metadata": {},
   "source": [
    "# Lab 01 - Getting To Common Ground\n",
    "\n",
    "Imports first. We do these at the top so they don't get in the way of reading the rest - so we can concentrate on the work, and not programming boilerplate."
   ]
  },
  {
   "cell_type": "code",
   "execution_count": 1,
   "metadata": {},
   "outputs": [],
   "source": [
    "import numpy as np\n",
    "import matplotlib.pyplot as plt"
   ]
  },
  {
   "cell_type": "markdown",
   "metadata": {},
   "source": [
    "For those of you that aren't aware of this nice `python` feature - the `as np` is a short cut so we can refer to `numpy.sin` as `np.sin` below."
   ]
  },
  {
   "cell_type": "markdown",
   "metadata": {},
   "source": [
    "## Generating the 1D Normal Distribution"
   ]
  },
  {
   "cell_type": "code",
   "execution_count": 11,
   "metadata": {},
   "outputs": [],
   "source": [
    "data = np.random.normal(0.0, scale=1.0, size=10000)"
   ]
  },
  {
   "cell_type": "code",
   "execution_count": 3,
   "metadata": {},
   "outputs": [
    {
     "data": {
      "text/plain": [
       "array([-5.24707697e-02, -8.45272614e-01, -1.00661776e+00,  1.02524562e+00,\n",
       "        1.89104105e+00,  2.04004241e-01,  1.09998466e-01,  4.85836886e-01,\n",
       "        1.91579887e-01, -1.10507820e+00,  1.68925172e-01, -1.00332762e+00,\n",
       "        4.79076230e-01,  1.57845956e+00, -1.33883244e+00,  1.04465815e+00,\n",
       "       -6.73891884e-01, -1.07029189e+00, -1.08209612e+00,  1.30128380e+00,\n",
       "        4.81113330e-01,  1.17075161e-01,  3.69479060e-01, -3.42505169e-01,\n",
       "        4.54828836e-01, -7.09118611e-01, -1.57203280e+00,  1.05069662e-01,\n",
       "       -3.81396614e-01, -1.23911485e+00,  6.81420642e-01, -1.77742150e+00,\n",
       "       -6.92700708e-01, -1.93569041e+00,  1.36904526e+00,  8.86382472e-01,\n",
       "        5.65404659e-02, -1.46221795e+00,  1.03717490e+00, -9.76211727e-01,\n",
       "        3.16063280e-01,  1.08083114e-01,  5.43133999e-01,  1.03941910e+00,\n",
       "       -1.57751488e+00, -3.76488683e-01,  9.09628532e-01,  1.45707811e-01,\n",
       "       -9.27658466e-01, -4.43903864e-02, -6.26357497e-01,  1.78956156e-01,\n",
       "        1.69466351e-01, -3.92984889e-01,  6.44492307e-01,  2.65037065e-01,\n",
       "       -1.39215244e-01, -1.63877869e+00, -1.50780837e+00, -2.76069108e-01,\n",
       "       -1.22667527e-01,  2.08779223e+00,  1.14933489e-01,  1.55600349e+00,\n",
       "       -4.36870667e-01, -8.43473892e-01,  4.89441966e-01, -1.14910612e+00,\n",
       "       -5.53045296e-01,  4.80241387e-01, -2.64471621e-01, -9.61994344e-02,\n",
       "       -1.75449219e+00, -1.40670816e+00, -3.15026859e-01,  1.35345607e-01,\n",
       "        1.29700502e+00,  7.66912198e-02, -3.87224452e-01, -1.00626455e+00,\n",
       "        3.63974922e-01, -6.22750154e-02, -5.64866862e-01,  5.12303286e-01,\n",
       "       -8.35086965e-01,  2.78653607e+00,  5.91170379e-01,  3.26217376e-01,\n",
       "        3.99644851e-01,  3.50252449e-01,  8.25296646e-01, -9.83864523e-03,\n",
       "       -7.37222333e-01, -2.18446581e-01,  3.65138781e-01,  6.00581333e-01,\n",
       "       -3.25736532e-01, -1.42178361e+00, -1.62250547e+00, -7.82519922e-01,\n",
       "        1.69359972e+00,  7.76211027e-01,  4.64077299e-01, -3.83285809e-01,\n",
       "        9.90298875e-01, -5.67961221e-01,  9.71321227e-01,  1.33314056e+00,\n",
       "        7.45257836e-01,  1.17060984e+00,  6.64429705e-01, -1.18737744e+00,\n",
       "        4.62156625e-01,  6.14734475e-01, -1.00403006e-01,  7.79070907e-01,\n",
       "        2.98069773e-01, -1.79751553e-01, -2.42093416e-01,  3.05168194e-01,\n",
       "       -5.84641449e-01, -2.50735945e-01, -1.34589891e+00,  5.47794740e-01,\n",
       "       -2.16323454e-01,  4.25705709e-01, -8.03100162e-01, -2.55116025e+00,\n",
       "        8.99481258e-01, -2.04229347e+00, -1.08359319e+00,  1.43556446e+00,\n",
       "        8.24376222e-01, -6.24187126e-01,  3.22431070e-01,  9.38859512e-01,\n",
       "       -1.48434020e-01, -1.82189278e-01, -1.31213971e+00, -2.11442564e+00,\n",
       "        3.74712636e-01, -6.97461349e-01,  6.44796384e-01,  1.36507911e+00,\n",
       "       -1.37495287e+00, -2.33755258e-01, -1.40509444e+00, -8.08163310e-01,\n",
       "        3.95447933e-01, -9.80294551e-01, -6.92080611e-01,  8.65090473e-01,\n",
       "       -1.06609784e+00, -7.04880010e-01, -5.80478433e-01,  5.70301298e-01,\n",
       "       -1.09381301e+00,  1.79683148e-01, -2.98545886e-01, -3.17587762e-01,\n",
       "       -1.36641374e+00, -4.83239621e-02, -6.30754242e-02, -1.66941594e-01,\n",
       "        9.85088560e-01, -1.85931505e-01, -9.46078051e-01, -9.95082183e-01,\n",
       "        1.38687931e+00,  1.52022450e-01,  9.51704213e-01, -4.24260197e-01,\n",
       "       -8.37781309e-01, -8.76705297e-02, -2.91965165e-01,  3.02943789e-01,\n",
       "        1.14815055e+00,  2.35493851e-01, -8.69937768e-01, -1.91789726e+00,\n",
       "       -7.04048250e-01,  1.01989133e+00, -7.72416968e-01, -1.44094274e+00,\n",
       "        1.39039406e+00,  4.57942625e-01,  5.43689436e-01, -7.46171440e-01,\n",
       "       -9.36914254e-01, -8.73846795e-02, -4.19058110e-01,  6.59974846e-01,\n",
       "       -3.98097123e-01,  1.60050252e+00, -6.53351430e-01, -1.92509536e+00,\n",
       "       -4.09600698e-01, -1.38754717e-01, -1.68254291e-01, -1.96037897e+00,\n",
       "        6.80405784e-01, -6.80670943e-01, -1.89513380e+00, -6.95632410e-01,\n",
       "       -1.03242661e+00,  1.56050584e+00, -5.82229644e-01, -6.47855079e-01,\n",
       "       -6.55213174e-01, -2.74581895e-01, -2.86895125e+00, -1.25424264e-01,\n",
       "       -1.43406086e+00,  2.41328318e-01, -1.67832613e+00,  1.43407185e+00,\n",
       "        9.69242159e-02, -6.75556559e-01,  2.47433089e+00, -1.28143686e+00,\n",
       "        2.25668145e-01,  7.61205997e-01, -8.23471613e-01, -4.59776112e-01,\n",
       "       -8.44789151e-01,  1.95677871e-01,  8.61282741e-01,  1.50093067e+00,\n",
       "       -7.28772912e-01, -6.45887302e-01,  1.72027496e-01,  1.45462590e+00,\n",
       "       -9.35155995e-02,  4.46099426e-02, -2.02325867e+00, -9.51556504e-01,\n",
       "       -3.51968968e-03,  2.15058496e+00, -2.15189327e-01,  8.85449616e-02,\n",
       "       -2.02602459e+00,  1.11270709e-01, -1.98262205e-01,  2.13486697e+00,\n",
       "        1.83702211e-01, -2.69912471e-01, -2.83746794e-01, -1.65692159e+00,\n",
       "       -1.23908151e+00, -9.79388059e-01,  1.56922837e+00, -5.06391732e-01,\n",
       "        9.10952205e-01,  6.52537317e-01,  2.64394526e-01, -5.56089893e-01,\n",
       "       -5.37903245e-01,  1.29544308e+00,  1.66948193e-01, -3.00783445e-01,\n",
       "        1.19173519e+00, -9.42318397e-01,  4.54549328e-01,  5.82281208e-01,\n",
       "        5.02783794e-01, -6.67968996e-01,  4.53074903e-01,  6.45379033e-01,\n",
       "       -2.68873843e-01,  4.91538590e-01,  5.04424301e-01, -9.85162175e-01,\n",
       "       -1.45245224e+00, -1.31653476e+00,  1.22062911e+00, -2.50484563e-01,\n",
       "       -2.05976473e+00,  3.19113625e-01,  4.12730196e-02, -4.40799712e-01,\n",
       "       -7.84384999e-01,  1.96079753e+00, -8.82851512e-02, -2.62343175e-01,\n",
       "       -9.19037934e-02,  1.55554636e+00, -1.56436690e+00, -4.77658075e-02,\n",
       "       -5.45782895e-01, -1.52009810e-01,  1.13448605e+00,  1.95667294e+00,\n",
       "       -9.14924773e-01,  8.78754457e-01, -2.12793971e-01, -1.59692108e+00,\n",
       "       -3.05533930e-01,  4.47186724e-01, -1.44008030e+00,  7.19692183e-01,\n",
       "       -2.30753392e-01, -4.81207007e-01, -1.25131610e-01, -1.23087728e+00,\n",
       "        1.93225987e-01, -7.08219407e-02, -1.80934679e-01, -1.75569029e+00,\n",
       "       -1.28139277e+00,  2.02359281e+00, -1.93744498e-01,  9.07956591e-01,\n",
       "        1.38724597e-01,  2.36385481e+00,  1.39415523e+00, -1.75478882e+00,\n",
       "       -1.05712815e+00,  9.06490316e-02,  9.32213144e-01, -9.44030459e-01,\n",
       "       -2.07838368e-01, -1.49164371e+00, -1.22934305e+00,  4.71130468e-01,\n",
       "       -3.59328255e-01,  1.21472751e+00,  1.11184884e+00, -9.03558357e-01,\n",
       "        1.63936862e+00, -1.48393926e+00,  7.63825518e-01,  2.93277645e-01,\n",
       "       -8.88880399e-02,  3.42336847e-01, -1.44801436e+00, -4.65385636e-01,\n",
       "        9.78248447e-01,  8.04905917e-01, -4.26363673e-01, -5.24877444e-01,\n",
       "       -4.30398436e-01,  7.30511014e-01,  2.78041121e-01,  6.80903289e-01,\n",
       "       -2.27229917e+00,  5.11392373e-01,  1.57068246e+00, -2.90536132e-01,\n",
       "        3.51608716e-01,  1.95630577e-01, -4.91224012e-02,  6.44036049e-01,\n",
       "        3.07182666e-01,  8.12020029e-02, -2.35432403e-01, -2.87676225e+00,\n",
       "        9.23780457e-01,  3.63358881e-01,  1.40914865e+00, -1.27015503e+00,\n",
       "        6.70740994e-02,  1.57296176e+00,  2.58378052e+00, -9.28922201e-01,\n",
       "        1.95276291e-01,  1.36199584e+00, -1.52601429e+00,  1.26350156e-01,\n",
       "        6.16907593e-01,  3.76876035e-01,  2.33501810e+00,  9.50013110e-01,\n",
       "       -1.88958464e-01, -2.74118034e-01, -4.06340317e-01,  1.26429277e+00,\n",
       "       -6.75763088e-01, -1.58666484e+00,  1.89031387e+00, -1.37087037e+00,\n",
       "       -1.51665201e-01,  1.24866860e+00,  1.12593529e+00,  4.18109808e-01,\n",
       "        4.23550038e-01, -4.87069996e-01,  1.96394397e+00,  9.93550457e-01,\n",
       "        7.12485312e-01, -5.56825385e-01, -1.57723994e+00, -4.57150174e-01,\n",
       "        3.69674405e-01, -1.34183485e+00, -1.81782214e-01,  7.96612328e-01,\n",
       "       -1.02367256e-01,  1.24630905e+00, -1.83409468e+00, -2.25887880e+00,\n",
       "       -1.19810741e+00,  1.48946474e+00, -2.81135680e-01,  1.40721933e+00,\n",
       "        1.18849594e-01, -4.54748401e-01, -1.62934849e+00,  7.98157053e-01,\n",
       "        4.38121214e-01,  1.31766609e+00,  1.60819660e+00,  9.84185462e-03,\n",
       "       -1.13904870e+00, -1.19951647e+00,  1.03488071e+00,  4.51742125e-01,\n",
       "       -6.16648879e-01, -1.05902148e+00, -2.04104236e+00,  5.87445582e-01,\n",
       "        5.41987395e-01, -1.21996199e-01, -1.31247156e+00, -1.85283075e+00,\n",
       "       -4.71229585e-01, -5.33306128e-01, -5.95186348e-01,  1.24667688e+00,\n",
       "       -8.51705525e-01,  1.45073641e+00, -6.03965889e-01,  7.40685350e-01,\n",
       "        5.76795820e-02, -4.02205846e-01,  1.52229601e+00,  2.01338536e+00,\n",
       "        1.50256785e+00, -1.17559838e+00,  1.11420270e+00, -3.09765694e-01,\n",
       "        4.19914129e-01, -5.00352327e-01, -1.15614501e+00, -9.02491345e-01,\n",
       "       -1.56705332e+00, -1.59562255e+00, -7.96393087e-02,  2.70928066e-01,\n",
       "       -4.22888857e-01, -1.96974850e-01, -6.54842020e-02,  4.12280895e-01,\n",
       "        7.11810518e-01, -1.64779231e+00, -5.44399213e-01,  7.45322972e-01,\n",
       "        1.55746928e+00, -1.66871487e+00,  3.89623965e-02,  1.83501593e+00,\n",
       "        5.71732533e-01, -1.24612191e+00,  8.12703895e-01,  6.11501739e-01,\n",
       "        6.23286678e-01, -9.31942687e-01, -2.06857997e+00,  3.42510420e-01,\n",
       "       -1.25092359e+00, -1.06609317e+00,  1.31258284e+00,  1.21243955e+00,\n",
       "       -1.51489177e+00, -1.10844828e-01,  8.95370784e-01, -2.32523755e-01,\n",
       "       -1.51699409e+00, -4.55190246e-01, -2.15331164e+00,  2.47969317e-01,\n",
       "       -2.03783030e+00,  1.19161442e+00, -4.01305397e-01,  1.06885373e+00,\n",
       "        1.96359916e-01, -1.57333551e-01, -2.35731847e+00,  3.79680299e-01,\n",
       "        6.57958731e-02,  9.51899062e-01,  9.07750799e-01, -6.96257905e-01,\n",
       "       -8.08869682e-01, -7.11067704e-01,  9.28707420e-01, -6.67912370e-01,\n",
       "       -2.69081003e-01,  4.07535400e-01, -1.46829039e-01,  1.06168736e+00,\n",
       "       -1.63554533e-02, -8.03603366e-01, -8.71761630e-03,  4.27777775e-02,\n",
       "        7.47408307e-01, -4.97766955e-01, -1.30187144e+00,  1.35970793e-01,\n",
       "       -5.39234994e-01, -1.06965852e+00, -1.51106285e+00, -1.01294247e+00,\n",
       "       -2.56863052e+00,  6.36569415e-01,  5.02023053e-01, -6.97219394e-01,\n",
       "        4.40928319e-01, -5.38648694e-01, -1.23558148e+00,  1.16582121e-01,\n",
       "        6.28755367e-01, -6.23071730e-01, -1.90967805e+00, -1.67737368e+00,\n",
       "        5.01979147e-01,  2.00240789e+00,  4.97378411e-01,  7.87059899e-01,\n",
       "       -1.92561165e+00, -2.88632588e-01, -6.89233405e-01, -4.80389101e-02,\n",
       "        2.84952660e-01,  1.05921928e+00,  3.11447792e-01,  1.03948369e+00,\n",
       "       -2.56380512e-01,  1.00828775e+00, -4.71721701e-01,  7.14428902e-01,\n",
       "       -9.13049264e-01, -1.25414907e+00,  1.80769205e+00,  9.27462047e-01,\n",
       "        2.50733766e-01,  1.85323288e-01, -7.41422237e-01,  1.71322299e+00,\n",
       "       -1.11907140e+00,  4.83327565e-01, -8.77629548e-02, -5.23552135e-01,\n",
       "        7.20321891e-01, -8.65001293e-01,  1.46071753e+00, -1.09763478e+00,\n",
       "        3.08339386e-01,  6.14580081e-01, -3.91366242e-01, -1.99722588e+00,\n",
       "        5.07642025e-01, -7.77263179e-01,  7.33332060e-01,  4.64378747e-01,\n",
       "        2.59611034e+00,  1.67376744e+00, -1.00760963e+00,  2.36593041e-01,\n",
       "       -4.94214283e-01, -9.46620486e-01, -6.45546342e-01,  3.61545688e-01,\n",
       "        4.91100060e-01, -2.04316444e-01,  6.49405621e-01,  1.81114449e+00,\n",
       "        6.59596247e-01,  1.19094792e+00,  3.88160068e+00, -1.66824574e+00,\n",
       "        4.48944250e-01, -7.70544862e-01,  3.37492807e-01,  1.04126146e+00,\n",
       "        6.00312445e-01,  1.21668152e+00,  2.46667864e-01, -7.04814019e-01,\n",
       "       -2.35817736e-01, -2.05966507e+00, -1.59654700e+00, -2.13504231e+00,\n",
       "       -7.35545365e-01, -6.56159370e-01, -1.74093817e+00, -3.96785671e-01,\n",
       "       -8.31277548e-01,  3.85862976e-01,  7.91147874e-01, -4.85868323e-01,\n",
       "       -8.27902580e-01,  4.74974809e-01, -8.71872569e-01,  1.00743695e+00,\n",
       "        1.40887807e-01,  1.05073570e+00, -1.88878917e-01,  1.65281049e+00,\n",
       "        1.67211508e+00, -1.33505899e+00,  3.27545051e-01, -5.31784099e-01,\n",
       "       -1.83422420e-01, -1.13288049e+00, -3.03999275e-01,  1.30035235e-01,\n",
       "       -5.66451112e-01, -1.71561334e+00,  5.56727568e-01,  1.19625903e+00,\n",
       "        7.16761575e-02, -2.13564016e+00, -1.52262943e+00, -2.93378106e-01,\n",
       "       -1.13093863e+00, -7.58458361e-01,  1.49798137e+00,  5.43261634e-02,\n",
       "        9.83019349e-01,  5.84437636e-01,  1.71613495e+00, -1.00311372e+00,\n",
       "        4.47033754e-01,  9.22019278e-01, -5.55502176e-01, -1.21271128e+00,\n",
       "        6.79716385e-01, -1.70586349e-01, -3.00876785e-02,  2.73732252e+00,\n",
       "       -9.36067623e-01,  6.40383204e-01,  1.72542899e-01, -2.64271147e-01,\n",
       "       -9.78751257e-03, -1.90194546e-01,  5.20252371e-01, -4.35298937e-01,\n",
       "       -5.54635762e-01, -1.70840029e-01,  5.90725115e-01,  1.52263960e+00,\n",
       "        4.03602013e-02,  2.15405591e+00, -2.53669350e+00,  1.26835127e+00,\n",
       "        1.71608472e+00, -1.27016915e+00, -2.90625433e-01, -5.64957930e-01,\n",
       "        1.10890968e+00, -1.75208899e+00, -9.83229170e-01,  1.62576259e+00,\n",
       "        5.30337057e-01, -8.89830795e-01, -9.74080877e-01,  7.35514775e-02,\n",
       "       -1.25844643e+00,  3.33202457e-01, -1.97965250e+00, -5.09667340e-01,\n",
       "       -1.31982430e-01, -8.06496499e-01,  1.64588138e+00,  1.15336091e+00,\n",
       "       -1.11363022e+00,  1.87305790e-01, -2.72465909e-01,  1.13785693e+00,\n",
       "       -1.57880268e+00, -4.90509616e-02, -5.47680521e-01, -1.46580641e+00,\n",
       "       -5.56096245e-01,  1.05122128e+00,  2.14223187e+00,  7.22114931e-02,\n",
       "       -8.36620048e-01, -7.88907778e-01, -3.90430529e-01, -3.14052486e-01,\n",
       "        1.03677418e+00,  2.64525072e-01, -1.08394465e-01,  4.33848247e-01,\n",
       "        3.04538871e-02,  5.60005111e-01, -3.77838363e-01,  6.00751193e-01,\n",
       "        2.75364633e-01, -7.16723811e-02, -2.67300143e-01, -3.32484993e-01,\n",
       "       -3.37154042e-01,  3.24107012e-01, -3.07711902e-01, -1.16880399e+00,\n",
       "        4.67017952e-01,  5.09569789e-02,  1.89315454e-02, -6.07447802e-01,\n",
       "       -1.66183024e+00,  2.63457615e-01,  2.36823553e+00,  1.04957734e+00,\n",
       "       -9.85259549e-01, -3.05301977e-01,  5.48046880e-01, -6.58940122e-01,\n",
       "       -1.63843809e+00,  3.27113013e-02, -1.39729806e+00, -1.96321057e+00,\n",
       "        5.86002859e-01,  6.92588059e-01,  2.61417043e-01,  1.49832269e+00,\n",
       "       -7.94682708e-01, -1.16763800e+00,  3.30131555e-01, -3.50371506e-01,\n",
       "        2.97363377e-01, -1.21856157e+00,  8.33546651e-01, -7.57571810e-01,\n",
       "        8.01973080e-01,  5.00926932e-01,  6.34698565e-01, -1.32223065e+00,\n",
       "       -1.36496302e+00,  5.37339169e-01,  3.55537212e-01,  3.08001032e-01,\n",
       "       -1.69048457e-01,  1.08404048e+00,  1.03060774e+00,  9.22792137e-01,\n",
       "        2.14000885e-01, -2.98133018e-01, -1.51616502e+00,  2.85018139e-02,\n",
       "       -1.46114929e+00, -2.48953275e-01,  2.67034598e-01, -8.22390140e-01,\n",
       "        1.23080266e+00,  5.32492258e-01,  5.62976176e-01, -8.23505499e-01,\n",
       "        6.19329982e-01, -5.98834247e-01, -1.04591434e+00, -1.15589653e-01,\n",
       "        6.82601195e-01,  1.33315945e+00, -1.43292103e+00, -5.33554230e-01,\n",
       "       -1.32632060e+00,  2.06090677e+00,  1.78821704e+00,  1.15005922e+00,\n",
       "        5.53284714e-01, -5.96312411e-01, -1.08284748e-01,  6.78409200e-01,\n",
       "        1.90695566e+00, -5.08359565e-02, -2.08944751e-01, -1.36301561e+00,\n",
       "       -5.70249440e-01,  2.23395861e-01,  6.34860605e-02, -1.28272528e+00,\n",
       "       -7.76924160e-01, -7.98209647e-01, -7.69011548e-01,  9.94851391e-01,\n",
       "        2.22000119e-01,  5.62539057e-01, -9.51185087e-01,  1.30268702e+00,\n",
       "        1.16587802e+00,  5.96268023e-01,  1.33805414e-01, -3.54747200e-01,\n",
       "        3.04468889e-01, -1.35422438e+00,  1.48867624e-01,  6.22861009e-01,\n",
       "        6.81953869e-01,  3.98886906e-01, -1.89129876e+00, -8.96736212e-01,\n",
       "        1.44388330e+00,  1.14052038e+00,  8.61843488e-01,  1.74168297e+00,\n",
       "        6.32939605e-01,  1.32060778e+00, -2.27499303e+00, -7.08635031e-01,\n",
       "        8.16089551e-01, -1.09472894e+00, -1.32222657e+00,  1.23173390e-01,\n",
       "       -1.10025289e+00,  1.37252061e+00,  9.01095933e-01,  3.06418491e-02,\n",
       "       -3.37452692e-01,  1.53667576e+00,  3.90800784e-01,  1.18487885e-01,\n",
       "       -1.24239678e+00,  1.93454698e-01,  2.99528754e-01, -4.68517200e-01,\n",
       "        1.53853207e-01, -6.27562420e-01,  2.05959350e-01, -9.14006480e-01,\n",
       "        2.10838359e-01,  8.78692774e-01,  1.29678995e+00, -1.65611425e+00,\n",
       "        3.95217046e-01,  9.56034576e-01, -3.01814353e-01, -3.11587713e-01,\n",
       "       -1.04548835e+00,  1.43046817e+00, -1.17382618e+00,  1.12407594e+00,\n",
       "        1.14605558e+00, -1.15773699e+00, -1.61224312e-01,  8.27157452e-01,\n",
       "        6.14947781e-01, -2.29042459e-01, -3.19383124e-01, -1.09508810e-01,\n",
       "        1.15451995e-01, -1.42529237e-01, -8.46747207e-01,  6.93743993e-01,\n",
       "       -9.57986123e-01,  4.43623935e-01,  1.72234949e-01,  9.60792380e-01,\n",
       "       -3.98017267e-01, -1.28391815e+00,  5.51861038e-01,  5.07574934e-01,\n",
       "        4.06327268e-01,  6.60302325e-01, -1.21276333e+00,  1.42289486e+00,\n",
       "       -2.57839989e-01, -1.81304537e-01,  1.48110967e+00, -7.95873346e-01,\n",
       "       -1.11249480e+00,  5.75387715e-01, -4.68511533e-01,  9.24209485e-01,\n",
       "        5.57264066e-02, -3.24121536e-01, -1.58264809e+00,  1.31100847e+00,\n",
       "        3.01069330e-02,  4.03344311e-01,  1.95776604e+00,  1.34317805e-01,\n",
       "        9.94848978e-01, -1.69077837e+00,  7.08394693e-01,  6.87287021e-01,\n",
       "       -3.11378010e-01, -3.82956081e-01, -1.12470960e-01,  1.32362340e+00,\n",
       "        1.14590432e+00,  5.18400982e-01, -1.29713550e+00, -7.29371586e-01,\n",
       "       -4.92900784e-01, -1.77684026e+00,  1.11350284e+00, -3.44959111e-02,\n",
       "       -8.20429044e-01, -4.72962286e-01, -4.95129898e-01,  1.62857673e+00,\n",
       "       -2.33096584e-01,  1.30653848e-01, -1.09386298e+00,  8.86316443e-01,\n",
       "       -1.06857997e+00, -4.24483389e-01,  1.28118701e+00,  8.18393484e-01,\n",
       "       -1.65517967e+00,  1.57713813e+00,  2.24205449e-01, -1.00125330e-01,\n",
       "        6.05871669e-01,  1.20028571e+00,  7.85813953e-01, -1.32403096e+00,\n",
       "        1.11701596e+00,  1.86781840e+00,  1.16144206e+00, -1.40823340e+00,\n",
       "       -5.01087713e-01,  1.08070708e+00,  1.28068621e+00,  3.96195984e-01,\n",
       "       -9.64440931e-01, -1.55869623e-01, -9.94434356e-02, -1.66199095e-01,\n",
       "        3.82266444e-02, -6.96451191e-01,  3.04512162e-01,  7.42847045e-01,\n",
       "        2.35421145e-01,  3.01566346e-01, -5.03577218e-01,  2.10893236e+00,\n",
       "       -7.64831568e-01,  5.15755370e-01, -9.99135559e-01,  7.07492884e-01,\n",
       "       -1.73978372e+00,  8.89587493e-01, -6.51374044e-02, -1.10675156e-01,\n",
       "        6.19336029e-01,  8.10137370e-01, -1.65251697e+00,  7.82286514e-01,\n",
       "        8.13232924e-01,  7.68235410e-01, -2.84999889e-01,  2.47899915e-01,\n",
       "       -7.21449474e-01,  3.63251198e-01,  1.48882369e-01, -1.00767837e+00,\n",
       "        2.52700013e-01, -6.43467638e-01, -1.50725695e+00,  1.17614693e+00,\n",
       "        6.60746995e-01,  9.48908417e-01,  7.86490765e-01,  2.99810790e-01,\n",
       "       -2.41513752e+00, -7.01862859e-01,  1.21595533e+00, -6.10905346e-01,\n",
       "        8.36697261e-01, -3.28987775e-01, -9.39470335e-01, -6.15006233e-01,\n",
       "       -1.39673923e-01, -8.48247516e-01, -2.27809183e-01,  1.75526682e-01,\n",
       "        1.77668913e-01, -1.07139195e+00,  1.44056455e+00, -4.89312187e-01,\n",
       "       -4.59577470e-02,  3.66163568e-01, -8.44079985e-01,  1.82274554e+00,\n",
       "        5.26845337e-01,  1.16403289e+00, -4.25163495e-01,  8.05575703e-01,\n",
       "       -7.40134150e-01,  1.16068239e+00,  1.66516201e-03,  5.76190206e-01,\n",
       "       -1.35659048e+00, -1.24960378e+00,  1.88751609e+00, -2.11041171e-01])"
      ]
     },
     "execution_count": 3,
     "metadata": {},
     "output_type": "execute_result"
    }
   ],
   "source": [
    "data"
   ]
  },
  {
   "cell_type": "markdown",
   "metadata": {},
   "source": [
    "Lets make a histogram of it:"
   ]
  },
  {
   "cell_type": "code",
   "execution_count": 12,
   "metadata": {},
   "outputs": [
    {
     "data": {
      "text/plain": [
       "Text(0, 0.5, 'Frequency')"
      ]
     },
     "execution_count": 12,
     "metadata": {},
     "output_type": "execute_result"
    },
    {
     "data": {
      "image/png": "[encoded data removed]",
      "text/plain": [
       "<Figure size 432x288 with 1 Axes>"
      ]
     },
     "metadata": {
      "needs_background": "light"
     },
     "output_type": "display_data"
    }
   ],
   "source": [
    "plt.hist(data, bins=10)\n",
    "plt.xlabel('Normal Distribution')\n",
    "plt.ylabel('Frequency')"
   ]
  },
  {
   "cell_type": "code",
   "execution_count": 10,
   "metadata": {},
   "outputs": [
    {
     "data": {
      "text/plain": [
       "Text(0, 0.5, 'Frequency')"
      ]
     },
     "execution_count": 10,
     "metadata": {},
     "output_type": "execute_result"
    },
    {
     "data": {
      "image/png": "[encoded data removed]",
      "text/plain": [
       "<Figure size 432x288 with 1 Axes>"
      ]
     },
     "metadata": {
      "needs_background": "light"
     },
     "output_type": "display_data"
    }
   ],
   "source": [
    "plt.hist(data, bins=75)\n",
    "plt.xlabel('Normal Distribution')\n",
    "plt.ylabel('Frequency')"
   ]
  },
  {
   "cell_type": "code",
   "execution_count": 13,
   "metadata": {},
   "outputs": [
    {
     "data": {
      "text/plain": [
       "Text(0, 0.5, 'Frequency')"
      ]
     },
     "execution_count": 13,
     "metadata": {},
     "output_type": "execute_result"
    },
    {
     "data": {
      "image/png": "[encoded data removed]",
      "text/plain": [
       "<Figure size 432x288 with 1 Axes>"
      ]
     },
     "metadata": {
      "needs_background": "light"
     },
     "output_type": "display_data"
    }
   ],
   "source": [
    "plt.hist(data, bins=75)\n",
    "plt.xlabel('Normal Distribution')\n",
    "plt.ylabel('Frequency')"
   ]
  },
  {
   "cell_type": "markdown",
   "metadata": {},
   "source": [
    "Note how messy the distribution is above. A normal distribution should look \"perfect\" - the problem here is that we've binned so finely that the problems with the statistics have shown through."
   ]
  },
  {
   "cell_type": "code",
   "execution_count": 11,
   "metadata": {},
   "outputs": [
    {
     "data": {
      "text/plain": [
       "Text(0, 0.5, 'Frequency')"
      ]
     },
     "execution_count": 11,
     "metadata": {},
     "output_type": "execute_result"
    },
    {
     "data": {
      "image/png": "[encoded data removed]",
      "text/plain": [
       "<Figure size 432x288 with 1 Axes>"
      ]
     },
     "metadata": {
      "needs_background": "light"
     },
     "output_type": "display_data"
    }
   ],
   "source": [
    "plt.hist(data, bins=2)\n",
    "plt.xlabel('Normal Distribution')\n",
    "plt.ylabel('Frequency')"
   ]
  },
  {
   "cell_type": "markdown",
   "metadata": {},
   "source": [
    "Obviously, there are too few here!"
   ]
  },
  {
   "cell_type": "code",
   "execution_count": 12,
   "metadata": {},
   "outputs": [
    {
     "data": {
      "text/plain": [
       "Text(0, 0.5, 'Frequency')"
      ]
     },
     "execution_count": 12,
     "metadata": {},
     "output_type": "execute_result"
    },
    {
     "data": {
      "image/png": "[encoded data removed]",
      "text/plain": [
       "<Figure size 432x288 with 1 Axes>"
      ]
     },
     "metadata": {
      "needs_background": "light"
     },
     "output_type": "display_data"
    }
   ],
   "source": [
    "plt.hist(data, bins=10)\n",
    "plt.xlabel('Normal Distribution')\n",
    "plt.ylabel('Frequency')"
   ]
  },
  {
   "cell_type": "markdown",
   "metadata": {},
   "source": [
    "10 bins seems about correct!"
   ]
  },
  {
   "cell_type": "markdown",
   "metadata": {},
   "source": [
    "## Exponential Distirbution"
   ]
  },
  {
   "cell_type": "code",
   "execution_count": 17,
   "metadata": {},
   "outputs": [],
   "source": [
    "data_exp = np.random.exponential(0.1, 10000)"
   ]
  },
  {
   "cell_type": "code",
   "execution_count": 18,
   "metadata": {},
   "outputs": [
    {
     "data": {
      "text/plain": [
       "Text(0, 0.5, 'Frequency')"
      ]
     },
     "execution_count": 18,
     "metadata": {},
     "output_type": "execute_result"
    },
    {
     "data": {
      "image/png": "[encoded data removed]",
      "text/plain": [
       "<Figure size 432x288 with 1 Axes>"
      ]
     },
     "metadata": {
      "needs_background": "light"
     },
     "output_type": "display_data"
    }
   ],
   "source": [
    "plt.hist(data_exp, bins=20)\n",
    "plt.xlabel('Expoential Distribution ()')\n",
    "plt.ylabel('Frequency')"
   ]
  },
  {
   "cell_type": "markdown",
   "metadata": {},
   "source": [
    "## Scatter Plot of the distributions"
   ]
  },
  {
   "cell_type": "code",
   "execution_count": 30,
   "metadata": {},
   "outputs": [],
   "source": [
    "data_2d = np.random.normal(0.0, 1.0, (2, 20000))"
   ]
  },
  {
   "cell_type": "markdown",
   "metadata": {},
   "source": [
    "The first time I wrote the above line I had `(20000, 2)`, which gives an array with the dimensions inverted. By printing out `data_2d[0]` i was able to quickly see my mistake. Of course, I've not removed all evidence of my mistake and made my notebook nice and clean. This is pretty typical of most notebooks you see on the internet! One final thing - if you clean up, it is important to restart your kernel (see menu item under Kernel) and run everything from scratch incase you accidentally deleted something you need!"
   ]
  },
  {
   "cell_type": "code",
   "execution_count": 31,
   "metadata": {},
   "outputs": [
    {
     "data": {
      "text/plain": [
       "<matplotlib.collections.PathCollection at 0x155fdae36c8>"
      ]
     },
     "execution_count": 31,
     "metadata": {},
     "output_type": "execute_result"
    },
    {
     "data": {
      "image/png": "[encoded data removed]",
      "text/plain": [
       "<Figure size 432x288 with 1 Axes>"
      ]
     },
     "metadata": {
      "needs_background": "light"
     },
     "output_type": "display_data"
    }
   ],
   "source": [
    "plt.scatter(data_2d[0], data_2d[1])"
   ]
  },
  {
   "cell_type": "markdown",
   "metadata": {},
   "source": [
    "Ok - that is actually a pretty useless plot. As many of you discovered from discussions in class - the scatter plot can really lie to you when it has lots of data. Instead, it is much better to use one of the other types of 2D plots. I saw you all using lots of different types. If I can't think up a plot on my own, I sometimes to look at examples (e.g. [MatPlotLib examples](https://matplotlib.org/gallery/index.html))."
   ]
  },
  {
   "cell_type": "code",
   "execution_count": 34,
   "metadata": {},
   "outputs": [
    {
     "data": {
      "image/png": "[encoded data removed]",
      "text/plain": [
       "<Figure size 432x288 with 1 Axes>"
      ]
     },
     "metadata": {
      "needs_background": "light"
     },
     "output_type": "display_data"
    }
   ],
   "source": [
    "_ = plt.hist2d(data_2d[0], data_2d[1], bins=(30,30))"
   ]
  },
  {
   "cell_type": "markdown",
   "metadata": {},
   "source": [
    "The `_ =` is because `hist2d` returns an array of bin edges, and the notebook will dump that, getting in the way of what I want to show. So I put the result in the variable `_`. In python this usually means that we do not care about that value."
   ]
  },
  {
   "cell_type": "code",
   "execution_count": null,
   "metadata": {},
   "outputs": [],
   "source": []
  }
 ],
 "metadata": {
  "kernelspec": {
   "display_name": "Python 3",
   "language": "python",
   "name": "python3"
  },
  "language_info": {
   "codemirror_mode": {
    "name": "ipython",
    "version": 3
   },
   "file_extension": ".py",
   "mimetype": "text/x-python",
   "name": "python",
   "nbconvert_exporter": "python",
   "pygments_lexer": "ipython3",
   "version": "3.7.6"
  }
 },
 "nbformat": 4,
 "nbformat_minor": 4
}
